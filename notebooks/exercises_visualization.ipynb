{
 "cells": [
  {
   "cell_type": "markdown",
   "metadata": {
    "tags": []
   },
   "source": [
    "# Data Analysis and Data Science\n",
    "## Be curious about the data \n",
    "\n",
    "By: NOME\n",
    "<br>For: BIM6065-65\n",
    "\n",
    "<hr style=\"border:1px solid black\"> </hr>\n"
   ]
  },
  {
   "cell_type": "markdown",
   "metadata": {},
   "source": [
    "**Student Name**: FABRE Léna\n",
    "\n",
    "Complete the following exercises and submit your Notebook in a HTML format on StudiUM. You have until July 3rd, noon to hand-in your Notebook."
   ]
  },
  {
   "cell_type": "markdown",
   "metadata": {},
   "source": [
    "## Python Libraries\n",
    "\n",
    "Import the Pandas, and Seaborn"
   ]
  },
  {
   "cell_type": "code",
   "execution_count": 8,
   "metadata": {},
   "outputs": [],
   "source": [
    "import pandas as pd\n",
    "import seaborn as sns"
   ]
  },
  {
   "cell_type": "code",
   "execution_count": 9,
   "metadata": {},
   "outputs": [],
   "source": [
    "sns.set(rc={'figure.figsize':(9, 4)})\n",
    "sns.set_theme(context=\"notebook\", style=\"white\", palette=\"Set2\")"
   ]
  },
  {
   "cell_type": "markdown",
   "metadata": {},
   "source": [
    "## Get the data [8 pts]\n",
    "\n",
    "Download the <code>breast_cancer_metametric.tsv</code> dataset from StudiUM and upload it to the Jupyter IRIC server. Using <code>pandas</code>, read the file and save its content into a variable as a dataframe."
   ]
  },
  {
   "cell_type": "code",
   "execution_count": 10,
   "metadata": {},
   "outputs": [],
   "source": [
    "## Define variable with file name\n",
    "fn = \"breast_cancer_metametric.tsv\""
   ]
  },
  {
   "cell_type": "code",
   "execution_count": 11,
   "metadata": {},
   "outputs": [
    {
     "data": {
      "text/html": [
       "<div>\n",
       "<style scoped>\n",
       "    .dataframe tbody tr th:only-of-type {\n",
       "        vertical-align: middle;\n",
       "    }\n",
       "\n",
       "    .dataframe tbody tr th {\n",
       "        vertical-align: top;\n",
       "    }\n",
       "\n",
       "    .dataframe thead th {\n",
       "        text-align: right;\n",
       "    }\n",
       "</style>\n",
       "<table border=\"1\" class=\"dataframe\">\n",
       "  <thead>\n",
       "    <tr style=\"text-align: right;\">\n",
       "      <th></th>\n",
       "      <th>CHEMOTHERAPY</th>\n",
       "      <th>HORMONE_THERAPY</th>\n",
       "      <th>RADIO_THERAPY</th>\n",
       "      <th>BREAST_SURGERY</th>\n",
       "      <th>CELLULARITY</th>\n",
       "      <th>VITAL_STATUS</th>\n",
       "      <th>GRADE</th>\n",
       "      <th>COHORT</th>\n",
       "      <th>MUTATION_COUNT</th>\n",
       "      <th>NPI</th>\n",
       "      <th>OS_MONTHS</th>\n",
       "      <th>TUMOR_SIZE</th>\n",
       "      <th>TUMOR_STAGE</th>\n",
       "      <th>AGE_GROUP</th>\n",
       "    </tr>\n",
       "  </thead>\n",
       "  <tbody>\n",
       "    <tr>\n",
       "      <th>0</th>\n",
       "      <td>1.0</td>\n",
       "      <td>1.0</td>\n",
       "      <td>1.0</td>\n",
       "      <td>0.0</td>\n",
       "      <td>2.0</td>\n",
       "      <td>0.0</td>\n",
       "      <td>3.0</td>\n",
       "      <td>1.0</td>\n",
       "      <td>2.0</td>\n",
       "      <td>4.038</td>\n",
       "      <td>174.266667</td>\n",
       "      <td>19.0</td>\n",
       "      <td>1.0</td>\n",
       "      <td>30.0</td>\n",
       "    </tr>\n",
       "    <tr>\n",
       "      <th>1</th>\n",
       "      <td>1.0</td>\n",
       "      <td>1.0</td>\n",
       "      <td>1.0</td>\n",
       "      <td>0.0</td>\n",
       "      <td>1.0</td>\n",
       "      <td>2.0</td>\n",
       "      <td>3.0</td>\n",
       "      <td>1.0</td>\n",
       "      <td>4.0</td>\n",
       "      <td>6.046</td>\n",
       "      <td>48.600000</td>\n",
       "      <td>23.0</td>\n",
       "      <td>2.0</td>\n",
       "      <td>30.0</td>\n",
       "    </tr>\n",
       "    <tr>\n",
       "      <th>2</th>\n",
       "      <td>1.0</td>\n",
       "      <td>1.0</td>\n",
       "      <td>1.0</td>\n",
       "      <td>0.0</td>\n",
       "      <td>0.0</td>\n",
       "      <td>1.0</td>\n",
       "      <td>3.0</td>\n",
       "      <td>1.0</td>\n",
       "      <td>3.0</td>\n",
       "      <td>5.104</td>\n",
       "      <td>79.333333</td>\n",
       "      <td>52.0</td>\n",
       "      <td>3.0</td>\n",
       "      <td>80.0</td>\n",
       "    </tr>\n",
       "    <tr>\n",
       "      <th>3</th>\n",
       "      <td>0.0</td>\n",
       "      <td>1.0</td>\n",
       "      <td>0.0</td>\n",
       "      <td>0.0</td>\n",
       "      <td>2.0</td>\n",
       "      <td>0.0</td>\n",
       "      <td>2.0</td>\n",
       "      <td>3.0</td>\n",
       "      <td>5.0</td>\n",
       "      <td>3.036</td>\n",
       "      <td>224.600000</td>\n",
       "      <td>18.0</td>\n",
       "      <td>1.0</td>\n",
       "      <td>40.0</td>\n",
       "    </tr>\n",
       "    <tr>\n",
       "      <th>4</th>\n",
       "      <td>0.0</td>\n",
       "      <td>1.0</td>\n",
       "      <td>1.0</td>\n",
       "      <td>1.0</td>\n",
       "      <td>2.0</td>\n",
       "      <td>1.0</td>\n",
       "      <td>3.0</td>\n",
       "      <td>1.0</td>\n",
       "      <td>2.0</td>\n",
       "      <td>4.040</td>\n",
       "      <td>147.366667</td>\n",
       "      <td>20.0</td>\n",
       "      <td>1.0</td>\n",
       "      <td>60.0</td>\n",
       "    </tr>\n",
       "    <tr>\n",
       "      <th>...</th>\n",
       "      <td>...</td>\n",
       "      <td>...</td>\n",
       "      <td>...</td>\n",
       "      <td>...</td>\n",
       "      <td>...</td>\n",
       "      <td>...</td>\n",
       "      <td>...</td>\n",
       "      <td>...</td>\n",
       "      <td>...</td>\n",
       "      <td>...</td>\n",
       "      <td>...</td>\n",
       "      <td>...</td>\n",
       "      <td>...</td>\n",
       "      <td>...</td>\n",
       "    </tr>\n",
       "    <tr>\n",
       "      <th>1099</th>\n",
       "      <td>0.0</td>\n",
       "      <td>1.0</td>\n",
       "      <td>1.0</td>\n",
       "      <td>1.0</td>\n",
       "      <td>2.0</td>\n",
       "      <td>1.0</td>\n",
       "      <td>3.0</td>\n",
       "      <td>3.0</td>\n",
       "      <td>7.0</td>\n",
       "      <td>4.036</td>\n",
       "      <td>212.200000</td>\n",
       "      <td>18.0</td>\n",
       "      <td>1.0</td>\n",
       "      <td>60.0</td>\n",
       "    </tr>\n",
       "    <tr>\n",
       "      <th>1100</th>\n",
       "      <td>0.0</td>\n",
       "      <td>0.0</td>\n",
       "      <td>0.0</td>\n",
       "      <td>0.0</td>\n",
       "      <td>1.0</td>\n",
       "      <td>2.0</td>\n",
       "      <td>3.0</td>\n",
       "      <td>3.0</td>\n",
       "      <td>15.0</td>\n",
       "      <td>4.050</td>\n",
       "      <td>51.966667</td>\n",
       "      <td>25.0</td>\n",
       "      <td>2.0</td>\n",
       "      <td>60.0</td>\n",
       "    </tr>\n",
       "    <tr>\n",
       "      <th>1101</th>\n",
       "      <td>0.0</td>\n",
       "      <td>1.0</td>\n",
       "      <td>1.0</td>\n",
       "      <td>0.0</td>\n",
       "      <td>2.0</td>\n",
       "      <td>2.0</td>\n",
       "      <td>3.0</td>\n",
       "      <td>3.0</td>\n",
       "      <td>8.0</td>\n",
       "      <td>6.060</td>\n",
       "      <td>80.733333</td>\n",
       "      <td>30.0</td>\n",
       "      <td>3.0</td>\n",
       "      <td>60.0</td>\n",
       "    </tr>\n",
       "    <tr>\n",
       "      <th>1102</th>\n",
       "      <td>0.0</td>\n",
       "      <td>1.0</td>\n",
       "      <td>1.0</td>\n",
       "      <td>1.0</td>\n",
       "      <td>2.0</td>\n",
       "      <td>2.0</td>\n",
       "      <td>2.0</td>\n",
       "      <td>3.0</td>\n",
       "      <td>8.0</td>\n",
       "      <td>3.050</td>\n",
       "      <td>87.733333</td>\n",
       "      <td>25.0</td>\n",
       "      <td>2.0</td>\n",
       "      <td>60.0</td>\n",
       "    </tr>\n",
       "    <tr>\n",
       "      <th>1103</th>\n",
       "      <td>0.0</td>\n",
       "      <td>0.0</td>\n",
       "      <td>1.0</td>\n",
       "      <td>1.0</td>\n",
       "      <td>2.0</td>\n",
       "      <td>0.0</td>\n",
       "      <td>2.0</td>\n",
       "      <td>3.0</td>\n",
       "      <td>4.0</td>\n",
       "      <td>3.024</td>\n",
       "      <td>175.333333</td>\n",
       "      <td>12.0</td>\n",
       "      <td>1.0</td>\n",
       "      <td>40.0</td>\n",
       "    </tr>\n",
       "  </tbody>\n",
       "</table>\n",
       "<p>1104 rows × 14 columns</p>\n",
       "</div>"
      ],
      "text/plain": [
       "      CHEMOTHERAPY  HORMONE_THERAPY  RADIO_THERAPY  BREAST_SURGERY  \\\n",
       "0              1.0              1.0            1.0             0.0   \n",
       "1              1.0              1.0            1.0             0.0   \n",
       "2              1.0              1.0            1.0             0.0   \n",
       "3              0.0              1.0            0.0             0.0   \n",
       "4              0.0              1.0            1.0             1.0   \n",
       "...            ...              ...            ...             ...   \n",
       "1099           0.0              1.0            1.0             1.0   \n",
       "1100           0.0              0.0            0.0             0.0   \n",
       "1101           0.0              1.0            1.0             0.0   \n",
       "1102           0.0              1.0            1.0             1.0   \n",
       "1103           0.0              0.0            1.0             1.0   \n",
       "\n",
       "      CELLULARITY  VITAL_STATUS  GRADE  COHORT  MUTATION_COUNT    NPI  \\\n",
       "0             2.0           0.0    3.0     1.0             2.0  4.038   \n",
       "1             1.0           2.0    3.0     1.0             4.0  6.046   \n",
       "2             0.0           1.0    3.0     1.0             3.0  5.104   \n",
       "3             2.0           0.0    2.0     3.0             5.0  3.036   \n",
       "4             2.0           1.0    3.0     1.0             2.0  4.040   \n",
       "...           ...           ...    ...     ...             ...    ...   \n",
       "1099          2.0           1.0    3.0     3.0             7.0  4.036   \n",
       "1100          1.0           2.0    3.0     3.0            15.0  4.050   \n",
       "1101          2.0           2.0    3.0     3.0             8.0  6.060   \n",
       "1102          2.0           2.0    2.0     3.0             8.0  3.050   \n",
       "1103          2.0           0.0    2.0     3.0             4.0  3.024   \n",
       "\n",
       "       OS_MONTHS  TUMOR_SIZE  TUMOR_STAGE  AGE_GROUP  \n",
       "0     174.266667        19.0          1.0       30.0  \n",
       "1      48.600000        23.0          2.0       30.0  \n",
       "2      79.333333        52.0          3.0       80.0  \n",
       "3     224.600000        18.0          1.0       40.0  \n",
       "4     147.366667        20.0          1.0       60.0  \n",
       "...          ...         ...          ...        ...  \n",
       "1099  212.200000        18.0          1.0       60.0  \n",
       "1100   51.966667        25.0          2.0       60.0  \n",
       "1101   80.733333        30.0          3.0       60.0  \n",
       "1102   87.733333        25.0          2.0       60.0  \n",
       "1103  175.333333        12.0          1.0       40.0  \n",
       "\n",
       "[1104 rows x 14 columns]"
      ]
     },
     "execution_count": 11,
     "metadata": {},
     "output_type": "execute_result"
    }
   ],
   "source": [
    "## Read ans save data into variable as a dataframe\n",
    "data = pd.read_csv(fn, sep='\\t', header=0)\n",
    "data"
   ]
  },
  {
   "cell_type": "markdown",
   "metadata": {},
   "source": [
    "## Explore the data [12 pts]\n",
    "\n",
    "Using various <code>pandas</code> functions, answer the following questions. **Make sure you answers are explicitely outputed by your code.**"
   ]
  },
  {
   "cell_type": "markdown",
   "metadata": {},
   "source": [
    "1. How many variables and samples are there in your dataset?"
   ]
  },
  {
   "cell_type": "code",
   "execution_count": 12,
   "metadata": {},
   "outputs": [
    {
     "name": "stdout",
     "output_type": "stream",
     "text": [
      "1104 samples a.k.a patients\n",
      "14 variables\n"
     ]
    }
   ],
   "source": [
    "print(len(data), \"samples a.k.a patients\")\n",
    "\n",
    "print(len(data.columns), \"variables\")"
   ]
  },
  {
   "cell_type": "markdown",
   "metadata": {},
   "source": [
    "***\n",
    "2. How many age groups are considered?"
   ]
  },
  {
   "cell_type": "code",
   "execution_count": 13,
   "metadata": {},
   "outputs": [
    {
     "name": "stdout",
     "output_type": "stream",
     "text": [
      "6 Age group\n"
     ]
    }
   ],
   "source": [
    "data.loc[:,\"AGE_GROUP\"].nunique()\n",
    "print(data.loc[:,\"AGE_GROUP\"].nunique(),\"Age group\")"
   ]
  },
  {
   "cell_type": "markdown",
   "metadata": {},
   "source": [
    "***\n",
    "3. What is the mean overall survival (in month)?"
   ]
  },
  {
   "cell_type": "code",
   "execution_count": 14,
   "metadata": {},
   "outputs": [
    {
     "name": "stdout",
     "output_type": "stream",
     "text": [
      "126 months\n"
     ]
    }
   ],
   "source": [
    "num = data.loc[:,[\"OS_MONTHS\"]]\n",
    "print (int(num.mean(axis=0).values[0]),\"months\")"
   ]
  },
  {
   "cell_type": "markdown",
   "metadata": {},
   "source": [
    "***\n",
    "4. What is the highest mutation count?"
   ]
  },
  {
   "cell_type": "code",
   "execution_count": 15,
   "metadata": {},
   "outputs": [
    {
     "name": "stdout",
     "output_type": "stream",
     "text": [
      "46 highest mutation count\n"
     ]
    }
   ],
   "source": [
    "num = data.loc[:,[\"MUTATION_COUNT\"]]\n",
    "print (int(num.max(axis=0).values[0]),\"highest mutation count\")"
   ]
  },
  {
   "cell_type": "markdown",
   "metadata": {},
   "source": [
    "***\n",
    "5. How large is the smallest tumor?"
   ]
  },
  {
   "cell_type": "code",
   "execution_count": 16,
   "metadata": {},
   "outputs": [
    {
     "name": "stdout",
     "output_type": "stream",
     "text": [
      "1 cm\n"
     ]
    }
   ],
   "source": [
    "num = data.loc[:,[\"TUMOR_SIZE\"]]\n",
    "print(int(num.min(axis=0).values[0]), \"cm\")"
   ]
  },
  {
   "cell_type": "markdown",
   "metadata": {},
   "source": [
    "***\n",
    "6. What are the grade considered in the dataset?"
   ]
  },
  {
   "cell_type": "code",
   "execution_count": 17,
   "metadata": {},
   "outputs": [
    {
     "name": "stdout",
     "output_type": "stream",
     "text": [
      "Grades: [3. 2. 1.]\n"
     ]
    }
   ],
   "source": [
    "print(\"Grades:\",data.GRADE.unique())"
   ]
  },
  {
   "cell_type": "markdown",
   "metadata": {},
   "source": [
    "***\n",
    "7. What is the median Nottingham Prognostic Index (NPI)?"
   ]
  },
  {
   "cell_type": "code",
   "execution_count": 18,
   "metadata": {},
   "outputs": [
    {
     "name": "stdout",
     "output_type": "stream",
     "text": [
      "Median NPI:  4.046\n"
     ]
    }
   ],
   "source": [
    "print(\"Median NPI: \",data.NPI.median())"
   ]
  },
  {
   "cell_type": "markdown",
   "metadata": {},
   "source": [
    "***\n",
    "8. a) What are the possible values for CHEMOTHERAPY, HORMONE_THERAPY, RADIO_THERAPY, BREAST_SURGERY? <br>b) What do you think these values represent? "
   ]
  },
  {
   "cell_type": "code",
   "execution_count": 68,
   "metadata": {},
   "outputs": [
    {
     "name": "stdout",
     "output_type": "stream",
     "text": [
      "Chemotherapy: [1. 0.]\n",
      "1 = the patient received the chemotherapy and 0 = the patient did not receive it\n",
      "Hormone therapy: [1. 0.]\n",
      "1 = the patient received the hormone therapy and 0 = the patient did not receive it\n",
      "Radio therapy: [1. 0.]\n",
      "1 = the patient received the radio therapy and 0 = the patient did not receive it\n",
      "Breast surgery: [0. 1.]\n",
      "1 = the patient received the breast surgery and 0 = the patient did not receive it\n"
     ]
    }
   ],
   "source": [
    "print(\"Chemotherapy:\", data.CHEMOTHERAPY.unique())\n",
    "print(\"1 = the patient received the chemotherapy and 0 = the patient did not receive it\")\n",
    "print(\"Hormone therapy:\", data.HORMONE_THERAPY.unique())\n",
    "print(\"1 = the patient received the hormone therapy and 0 = the patient did not receive it\")\n",
    "print(\"Radio therapy:\", data.RADIO_THERAPY.unique())\n",
    "print(\"1 = the patient received the radio therapy and 0 = the patient did not receive it\")\n",
    "print(\"Breast surgery:\", data.BREAST_SURGERY.unique())\n",
    "print(\"1 = the patient received the breast surgery and 0 = the patient did not receive it\")"
   ]
  },
  {
   "cell_type": "markdown",
   "metadata": {},
   "source": [
    "***\n",
    "10. How many patients in the dataset have had breast surgery?"
   ]
  },
  {
   "cell_type": "code",
   "execution_count": 74,
   "metadata": {},
   "outputs": [
    {
     "name": "stdout",
     "output_type": "stream",
     "text": [
      "Breast surgery: 468 patients have had breast surgery\n"
     ]
    }
   ],
   "source": [
    "print(\"Breast surgery:\", sum (data.BREAST_SURGERY == 1), \"patients have had breast surgery\")"
   ]
  },
  {
   "cell_type": "markdown",
   "metadata": {},
   "source": [
    "## Visualize the data [30 pts]"
   ]
  },
  {
   "cell_type": "markdown",
   "metadata": {},
   "source": [
    "You are first interested in the distribution of the overall survival of the various samples. You hypothesize that the distribution differ from one tumor stage to another.\n",
    "\n",
    "Design a figure that will help verify your hypothesis. **Make sure your figure is readable and displayed after your code.**\n",
    "\n",
    "Briefly intepret your figure."
   ]
  },
  {
   "cell_type": "code",
   "execution_count": 19,
   "metadata": {},
   "outputs": [
    {
     "data": {
      "image/png": "[encoded data removed]",
      "text/plain": [
       "<Figure size 900x400 with 1 Axes>"
      ]
     },
     "metadata": {},
     "output_type": "display_data"
    }
   ],
   "source": [
    "### Figure\n",
    "sns.histplot(data, x=\"OS_MONTHS\", bins=25, hue=\"TUMOR_STAGE\",multiple=\"stack\")\n",
    "sns.despine()"
   ]
  },
  {
   "cell_type": "code",
   "execution_count": 20,
   "metadata": {},
   "outputs": [
    {
     "data": {
      "image/png": "[encoded data removed]",
      "text/plain": [
       "<Figure size 2000x500 with 4 Axes>"
      ]
     },
     "metadata": {},
     "output_type": "display_data"
    }
   ],
   "source": [
    "### Figure\n",
    "p = sns.displot(data, x=\"OS_MONTHS\", kind=\"hist\", col=\"TUMOR_STAGE\", multiple=\"stack\", bins = 25)\n",
    "sns.despine()"
   ]
  },
  {
   "cell_type": "code",
   "execution_count": 23,
   "metadata": {},
   "outputs": [
    {
     "name": "stdout",
     "output_type": "stream",
     "text": [
      "Plus la tumeur est à un stade élevée, plus la survie globale diminue. En effet, pour les patients atteints d'une tumeur de stade 1 ou 2, la survie peut s'étendre jusqu'à environ 300 mois, tandis ce que pour les pateints atteints d'une tumeur de stade 3 survivent rarement au dela de 200 mois et pour une tumeur de stade 4, la survie globale est très faible.\n"
     ]
    }
   ],
   "source": [
    "### Interpretation\n",
    "print(\"Plus la tumeur est à un stade élevée, plus la survie globale diminue. En effet, pour les patients atteints d'une tumeur de stade 1 ou 2, la survie peut s'étendre jusqu'à environ 300 mois, tandis ce que pour les pateints atteints d'une tumeur de stade 3 survivent rarement au dela de 200 mois et pour une tumeur de stade 4, la survie globale est très faible.\") "
   ]
  },
  {
   "cell_type": "markdown",
   "metadata": {},
   "source": [
    "***\n",
    "You are now interested in the relationship between the overall survival and the other variables measured. Given your knowledge of the dataset, make an hypothesis that considered the overall survival.\n",
    "\n",
    "Explore the dataset and generate a least one figure that validate or invalidate your hypothesis. **Make sure your figure is readable and displayed after your code.**\n",
    "\n",
    "Briefly intepret your figure."
   ]
  },
  {
   "cell_type": "code",
   "execution_count": 25,
   "metadata": {},
   "outputs": [
    {
     "name": "stdout",
     "output_type": "stream",
     "text": [
      "plus la taille de la tumeur est élevée, plus le taux de survie est faible\n"
     ]
    }
   ],
   "source": [
    "### Hypothesis\n",
    "print(\"plus la taille de la tumeur est élevée, plus le taux de survie est faible\")"
   ]
  },
  {
   "cell_type": "code",
   "execution_count": 30,
   "metadata": {},
   "outputs": [
    {
     "data": {
      "image/png": "[encoded data removed]",
      "text/plain": [
       "<Figure size 500x500 with 1 Axes>"
      ]
     },
     "metadata": {},
     "output_type": "display_data"
    }
   ],
   "source": [
    "### Figure\n",
    "sns.lmplot(data=data, x=\"TUMOR_SIZE\", y=\"OS_MONTHS\")\n",
    "sns.despine()"
   ]
  },
  {
   "cell_type": "code",
   "execution_count": 32,
   "metadata": {},
   "outputs": [
    {
     "name": "stdout",
     "output_type": "stream",
     "text": [
      "Il semble y avoir une corrélation inverse entre la taille de la tumeur et la survie globale. En effet, a mesure que la taille de la tumeur augmente, le taux de survie diminue.\n"
     ]
    }
   ],
   "source": [
    "### Interpretation\n",
    "print(\"Il semble y avoir une corrélation inverse entre la taille de la tumeur et la survie globale. En effet, a mesure que la taille de la tumeur augmente, le taux de survie diminue.\")"
   ]
  },
  {
   "cell_type": "code",
   "execution_count": null,
   "metadata": {},
   "outputs": [],
   "source": []
  }
 ],
 "metadata": {
  "kernelspec": {
   "display_name": "Python (bioinfo)",
   "language": "python",
   "name": "bioinfo"
  },
  "language_info": {
   "codemirror_mode": {
    "name": "ipython",
    "version": 3
   },
   "file_extension": ".py",
   "mimetype": "text/x-python",
   "name": "python",
   "nbconvert_exporter": "python",
   "pygments_lexer": "ipython3",
   "version": "3.10.4"
  }
 },
 "nbformat": 4,
 "nbformat_minor": 4
}
